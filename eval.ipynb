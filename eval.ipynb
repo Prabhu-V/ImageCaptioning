{
 "cells": [
  {
   "cell_type": "markdown",
   "id": "884772e1",
   "metadata": {},
   "source": [
    "### For evaluating performance of models on test data"
   ]
  },
  {
   "cell_type": "code",
   "execution_count": 2,
   "id": "a308762b-c64a-406d-8b5b-2c3576450e74",
   "metadata": {},
   "outputs": [],
   "source": [
    "import torch.backends.cudnn as cudnn\n",
    "import torch.optim\n",
    "import torch.utils.data\n",
    "import torchvision.transforms as transforms\n",
    "from dataset import *\n",
    "from utils import *\n",
    "from nltk.translate.bleu_score import corpus_bleu\n",
    "import torch.nn.functional as F\n",
    "from tqdm import tqdm\n",
    "import evaluate\n",
    "import torch\n",
    "import transformers\n",
    "from transformers import RobertaTokenizerFast\n",
    "from transformers import ViTFeatureExtractor\n",
    "from transformers import VisionEncoderDecoderModel\n",
    "import matplotlib.pyplot as plt"
   ]
  },
  {
   "cell_type": "code",
   "execution_count": 3,
   "id": "b56ff0ef-42f1-4bc3-b3fc-80bb255af6b5",
   "metadata": {},
   "outputs": [],
   "source": [
    "# Parameters\n",
    "MAX_NEW_TOKENS=50\n",
    "MAX_LEN=50\n",
    "BEAM_SIZE=3"
   ]
  },
  {
   "cell_type": "code",
   "execution_count": 4,
   "id": "a7057766-665f-4e7b-8f8b-37d9645e823b",
   "metadata": {},
   "outputs": [],
   "source": [
    "device = torch.device(\"cuda\" if torch.cuda.is_available() else \"cpu\")  # sets device for model and PyTorch tensors\n",
    "cudnn.benchmark = True"
   ]
  },
  {
   "cell_type": "code",
   "execution_count": 5,
   "id": "beec4e41-cf37-45b3-8d73-1feef6e4feec",
   "metadata": {},
   "outputs": [],
   "source": [
    "rouge = evaluate.load('rouge')"
   ]
  },
  {
   "cell_type": "markdown",
   "id": "cd061b44-71bf-4b19-9cb6-900ef906eb23",
   "metadata": {},
   "source": [
    "### Evaluating Efficientnet LSTM model"
   ]
  },
  {
   "cell_type": "code",
   "execution_count": 18,
   "id": "47fd4e27-4bc1-48b0-84db-4e5f2faa9674",
   "metadata": {},
   "outputs": [],
   "source": [
    "data_folder = '../data/flickr8k/'  # folder with data files\n",
    "data_name = 'flickr8k_5_cap_per_img_5_min_word_freq'  # base name shared by data files\n",
    "checkpoint = 'effnet_lstm_model.pth.tar'  # model checkpoint\n",
    "word_map_file = '../data/flickr8k/WORDMAP_flickr8k_5_cap_per_img_5_min_word_freq.json'  # word map json file"
   ]
  },
  {
   "cell_type": "code",
   "execution_count": null,
   "id": "fb1d5261-387e-4b71-b10d-63d85abe6c8e",
   "metadata": {},
   "outputs": [],
   "source": [
    "# Load model\n",
    "checkpoint = torch.load(checkpoint) # Use when GPU available\n",
    "#checkpoint = torch.load(checkpoint,map_location ='cpu') # Use for cpu\n",
    "decoder = checkpoint['decoder']\n",
    "decoder = decoder.to(device)\n",
    "decoder.eval()\n",
    "encoder = checkpoint['encoder']\n",
    "encoder = encoder.to(device)\n",
    "encoder.eval()"
   ]
  },
  {
   "cell_type": "code",
   "execution_count": 20,
   "id": "4e77b747-afc2-4782-8d0c-a2a435aa7cfd",
   "metadata": {},
   "outputs": [],
   "source": [
    "# Load word map\n",
    "with open(word_map_file, 'r') as j:\n",
    "    word_map = json.load(j)\n",
    "rev_word_map = {v: k for k, v in word_map.items()}\n",
    "vocab_size = len(word_map)"
   ]
  },
  {
   "cell_type": "code",
   "execution_count": 21,
   "id": "e168adc8-4299-4075-ae47-ff2017791d3d",
   "metadata": {},
   "outputs": [],
   "source": [
    "# Normalization transform\n",
    "normalize = transforms.Normalize(mean=[0.485, 0.456, 0.406],\n",
    "                                 std=[0.229, 0.224, 0.225])"
   ]
  },
  {
   "cell_type": "code",
   "execution_count": 22,
   "id": "ab94cd75-73af-4bc2-aeb7-97482c61f619",
   "metadata": {},
   "outputs": [],
   "source": [
    "def eval_effnet_lstm(beam_size):\n",
    "    \"\"\"\n",
    "    Evaluation of EfficientNet LSTM model\n",
    "    \n",
    "    Parameters:-\n",
    "    beam_size: beam size at which to generate captions for evaluation\n",
    "    \n",
    "    Returns:- BLEU-4 score, ROUGE2 score\n",
    "    \"\"\"\n",
    "    # DataLoader\n",
    "    loader = torch.utils.data.DataLoader(\n",
    "        CaptionDataset(data_folder, data_name, 'TEST', transform=transforms.Compose([normalize])),\n",
    "        batch_size=1, shuffle=True, num_workers=1, pin_memory=True)\n",
    "\n",
    "    # Lists to store references (true captions), and hypothesis (prediction) for each image\n",
    "    # If for n images, we have n hypotheses, and references a, b, c... for each image, we need -\n",
    "    # references = [[ref1a, ref1b, ref1c], [ref2a, ref2b], ...], hypotheses = [hyp1, hyp2, ...]\n",
    "    references = list()\n",
    "    hypotheses = list()\n",
    "\n",
    "    # For each image\n",
    "    for i, (image, caps, caplens, allcaps) in enumerate(\n",
    "            tqdm(loader, desc=\"EVALUATING AT BEAM SIZE \" + str(beam_size))):\n",
    "\n",
    "        k = beam_size\n",
    "\n",
    "        # Move to GPU device, if available\n",
    "        image = image.to(device)  # (1, 3, 600, 600)\n",
    "\n",
    "        # Encode\n",
    "        encoder_out = encoder(image)  # (1, enc_image_size, enc_image_size, encoder_dim)\n",
    "        enc_image_size = encoder_out.size(1)\n",
    "        encoder_dim = encoder_out.size(3)\n",
    "\n",
    "        # Flatten encoding\n",
    "        encoder_out = encoder_out.view(1, -1, encoder_dim)  # (1, num_pixels, encoder_dim)\n",
    "        num_pixels = encoder_out.size(1)\n",
    "        encoder_out = encoder_out.expand(k, num_pixels, encoder_dim)  # (k, num_pixels, encoder_dim)\n",
    "\n",
    "        # Tensor to store top k previous words at each step; initially they're just <start>\n",
    "        k_prev_words = torch.LongTensor([[word_map['<start>']]] * k).to(device)  # (k, 1)\n",
    "\n",
    "        # Tensor to store top k sequences; initially they're just <start>\n",
    "        seqs = k_prev_words  # (k, 1)\n",
    "\n",
    "        # Tensor to store top k sequences' scores; initially they're just 0\n",
    "        top_k_scores = torch.zeros(k, 1).to(device)  # (k, 1)\n",
    "\n",
    "        # Lists to store completed sequences and scores\n",
    "        complete_seqs = list()\n",
    "        complete_seqs_scores = list()\n",
    "\n",
    "        # Start decoding\n",
    "        step = 1\n",
    "        h, c = decoder.init_hidden_state(encoder_out)\n",
    "\n",
    "        # s is a number less than or equal to k, because sequences are removed from this process once they hit <end>\n",
    "        while True:\n",
    "\n",
    "            embeddings = decoder.embedding(k_prev_words).squeeze(1)  # (s, embed_dim)\n",
    "\n",
    "            awe, _ = decoder.attention(encoder_out, h)  # (s, encoder_dim), (s, num_pixels)\n",
    "\n",
    "            gate = decoder.sigmoid(decoder.f_beta(h))  # gating scalar, (s, encoder_dim)\n",
    "            awe = gate * awe\n",
    "\n",
    "            h, c = decoder.decode_step(torch.cat([embeddings, awe], dim=1), (h, c))  # (s, decoder_dim)\n",
    "\n",
    "            scores = decoder.fc(h)  # (s, vocab_size)\n",
    "            scores = F.log_softmax(scores, dim=1)\n",
    "\n",
    "            # Add\n",
    "            scores = top_k_scores.expand_as(scores) + scores  # (s, vocab_size)\n",
    "\n",
    "            # For the first step, all k points will have the same scores (since same k previous words, h, c)\n",
    "            if step == 1:\n",
    "                top_k_scores, top_k_words = scores[0].topk(k, 0, True, True)  # (s)\n",
    "            else:\n",
    "                # Unroll and find top scores, and their unrolled indices\n",
    "                top_k_scores, top_k_words = scores.view(-1).topk(k, 0, True, True)  # (s)\n",
    "\n",
    "            # Convert unrolled indices to actual indices of scores\n",
    "            prev_word_inds = top_k_words / vocab_size  # (s)\n",
    "            next_word_inds = top_k_words % vocab_size  # (s)\n",
    "            \n",
    "            prev_word_inds = prev_word_inds.long()\n",
    "            next_word_inds = next_word_inds.long()\n",
    "\n",
    "            # Add new words to sequences\n",
    "            seqs = torch.cat([seqs[prev_word_inds], next_word_inds.unsqueeze(1)], dim=1)  # (s, step+1)\n",
    "\n",
    "            # Which sequences are incomplete (didn't reach <end>)?\n",
    "            incomplete_inds = [ind for ind, next_word in enumerate(next_word_inds) if\n",
    "                               next_word != word_map['<end>']]\n",
    "            complete_inds = list(set(range(len(next_word_inds))) - set(incomplete_inds))\n",
    "\n",
    "            # Set aside complete sequences\n",
    "            if len(complete_inds) > 0:\n",
    "                complete_seqs.extend(seqs[complete_inds].tolist())\n",
    "                complete_seqs_scores.extend(top_k_scores[complete_inds])\n",
    "            k -= len(complete_inds)  # reduce beam length accordingly\n",
    "\n",
    "            # Proceed with incomplete sequences\n",
    "            if k == 0:\n",
    "                break\n",
    "                \n",
    "            seqs = seqs[incomplete_inds]\n",
    "            h = h[prev_word_inds[incomplete_inds]]\n",
    "            c = c[prev_word_inds[incomplete_inds]]\n",
    "            encoder_out = encoder_out[prev_word_inds[incomplete_inds]]\n",
    "            top_k_scores = top_k_scores[incomplete_inds].unsqueeze(1)\n",
    "            k_prev_words = next_word_inds[incomplete_inds].unsqueeze(1)\n",
    "\n",
    "            # Break if things have been going on too long\n",
    "            if step > 50:\n",
    "                break\n",
    "            step += 1\n",
    "\n",
    "        # If no complete sequences, add the last incomplete sequence\n",
    "        if len(complete_seqs) == 0:\n",
    "            complete_seqs.extend(seqs.tolist())  # (s, step+1)\n",
    "            #complete_seqs_alpha.extend(seqs_alpha.tolist())\n",
    "            complete_seqs_scores.extend(top_k_scores.tolist())  # (s)\n",
    "                \n",
    "        i = complete_seqs_scores.index(max(complete_seqs_scores))\n",
    "        seq = complete_seqs[i]\n",
    "\n",
    "        # References\n",
    "        img_caps = allcaps[0].tolist()\n",
    "        img_captions = list(\n",
    "            map(lambda c: [w for w in c if w not in {word_map['<start>'], word_map['<end>'], word_map['<pad>']}],\n",
    "                img_caps))  # remove <start> and pads\n",
    "        references.append(img_captions)\n",
    "\n",
    "        # Hypotheses\n",
    "        hypotheses.append([w for w in seq if w not in {word_map['<start>'], word_map['<end>'], word_map['<pad>']}])\n",
    "\n",
    "    # Calculate BLEU-4 scores\n",
    "    bleu4 = corpus_bleu(references, hypotheses)\n",
    "    \n",
    "    # Convert index to words for rouge\n",
    "    ref_rouge=[]\n",
    "    for x in references:\n",
    "        x_rouge=[]\n",
    "        for y in x:\n",
    "            y_rouge=[rev_word_map[ind] for ind in y]\n",
    "            y_str=\" \".join(y_rouge)\n",
    "            x_rouge.append(y_str)\n",
    "        ref_rouge.append(x_rouge)\n",
    "    \n",
    "    hypo_rouge=[]\n",
    "    for x in hypotheses:\n",
    "        x_rouge=[rev_word_map[ind] for ind in x]\n",
    "        x_str=\" \".join(x_rouge)\n",
    "        hypo_rouge.append(x_str)\n",
    "        \n",
    "    rouge2 = rouge.compute(predictions=hypo_rouge, references=ref_rouge)['rouge2']\n",
    "\n",
    "    return bleu4, rouge2"
   ]
  },
  {
   "cell_type": "code",
   "execution_count": 23,
   "id": "a46bf6ea-c1f0-4095-a9dc-5d53e54c32ac",
   "metadata": {},
   "outputs": [
    {
     "name": "stderr",
     "output_type": "stream",
     "text": [
      "EVALUATING AT BEAM SIZE 3: 100%|██████████| 5000/5000 [1:04:33<00:00,  1.29it/s]\n"
     ]
    }
   ],
   "source": [
    "effnet_lstm_bleu4,effnet_lstm_rouge2=eval_effnet_lstm(BEAM_SIZE)"
   ]
  },
  {
   "cell_type": "code",
   "execution_count": 24,
   "id": "64ce0749-4d3c-4bd0-a0b9-c1edd064c484",
   "metadata": {},
   "outputs": [
    {
     "name": "stdout",
     "output_type": "stream",
     "text": [
      "BLEU-4 score of Efficientnet LSTM model: 0.20546859803315368\n",
      "ROUGE-2 score of Efficientnet LSTM model: 0.24508992158890963\n"
     ]
    }
   ],
   "source": [
    "print(f'BLEU-4 score of Efficientnet LSTM model: {effnet_lstm_bleu4}')\n",
    "print(f'ROUGE-2 score of Efficientnet LSTM model: {effnet_lstm_rouge2}')"
   ]
  },
  {
   "cell_type": "markdown",
   "id": "6e282cb6-6999-40ea-b9fe-bb3d2fc0becd",
   "metadata": {},
   "source": [
    "### Evaluating ViT RoBERTa model"
   ]
  },
  {
   "cell_type": "code",
   "execution_count": 6,
   "id": "44aec009-5bc9-42b9-8853-f222b4a347e4",
   "metadata": {},
   "outputs": [],
   "source": [
    "df=create_input_df(karpathy_json_path='/home/prabhu.v/nlp_proj/data/dataset_flickr8k.json', \n",
    "                   image_folder='/home/prabhu.v/nlp_proj/data/flickr8k/Images/')"
   ]
  },
  {
   "cell_type": "code",
   "execution_count": 7,
   "id": "e5a09f74-8d61-4c4d-baf6-75e1f6a2397b",
   "metadata": {},
   "outputs": [],
   "source": [
    "grouped = df.groupby(['split'])\n",
    "df_test = grouped.get_group(\"test\")\n",
    "df_test = df_test.drop('split', axis=1).reset_index(drop=True)\n",
    "df_test = df_test.groupby('images', as_index=False).agg(list)"
   ]
  },
  {
   "cell_type": "code",
   "execution_count": null,
   "id": "a1533431-ab87-4709-b1d1-25b7f576e5ad",
   "metadata": {},
   "outputs": [],
   "source": [
    "tokenizer = RobertaTokenizerFast.from_pretrained('roberta-base', max_len=MAX_LEN)\n",
    "feature_extractor = ViTFeatureExtractor.from_pretrained(\"google/vit-base-patch16-224-in21k\")\n",
    "test_dataset = F8kDataset(df=df_test,tokenizer=tokenizer,feature_extractor= feature_extractor,decoder_max_length=MAX_LEN)"
   ]
  },
  {
   "cell_type": "code",
   "execution_count": null,
   "id": "c0112b08-1259-453d-9666-29c30cb9c00b",
   "metadata": {},
   "outputs": [],
   "source": [
    "model = VisionEncoderDecoderModel.from_pretrained('vit_roberta_model')"
   ]
  },
  {
   "cell_type": "code",
   "execution_count": 10,
   "id": "2800b855-b8ac-4d67-8a00-e3e8d8db980b",
   "metadata": {},
   "outputs": [],
   "source": [
    "images=[]\n",
    "for image in df_test.images:\n",
    "    images.append(Image.open(image).convert(\"RGB\"))"
   ]
  },
  {
   "cell_type": "code",
   "execution_count": 11,
   "id": "3f2c195c-3786-4be4-9b1e-8ee45e914c25",
   "metadata": {},
   "outputs": [],
   "source": [
    "# Extract features from images\n",
    "features=feature_extractor(images,return_tensors=\"pt\").pixel_values"
   ]
  },
  {
   "cell_type": "code",
   "execution_count": 12,
   "id": "3500d69c-36ba-450a-87ee-d9582b7391ee",
   "metadata": {},
   "outputs": [],
   "source": [
    "# Generate token ids for sentece\n",
    "with torch.no_grad():\n",
    "    generated_ids = model.generate(features,max_new_tokens=MAX_NEW_TOKENS,num_beams=BEAM_SIZE)"
   ]
  },
  {
   "cell_type": "code",
   "execution_count": 13,
   "id": "d6f80782-ff55-4a4e-bd74-bd3e36020b03",
   "metadata": {},
   "outputs": [],
   "source": [
    "# Convert ids to words\n",
    "generated_texts=tokenizer.batch_decode(generated_ids,skip_special_tokens=True)"
   ]
  },
  {
   "cell_type": "code",
   "execution_count": 14,
   "id": "5d5b7aae-1184-4cf4-975d-f38bcddf19dd",
   "metadata": {},
   "outputs": [],
   "source": [
    "# Calculate ROUGE 2 score\n",
    "references=list(df_test.captions)\n",
    "vit_roberta_rouge2 = rouge.compute(predictions=generated_texts, references=references)['rouge2']"
   ]
  },
  {
   "cell_type": "code",
   "execution_count": 15,
   "id": "2c3098f6-d11e-439a-a032-3bb1babb1030",
   "metadata": {},
   "outputs": [],
   "source": [
    "# Convert sentence into list of tokens for corpus_bleu\n",
    "hypotheses=[]\n",
    "for sentence in generated_texts:\n",
    "    sentence=sentence.replace('.',' .')\n",
    "    tokens=sentence.split()\n",
    "    hypotheses.append(tokens)\n",
    "    \n",
    "references=[]\n",
    "for sentences in df_test.captions:\n",
    "    reference=[]\n",
    "    for sentence in sentences:\n",
    "        tokens=sentence.split()\n",
    "        reference.append(tokens)\n",
    "    references.append(reference)\n",
    "\n",
    "# Calculate BLEU 4 score\n",
    "vit_roberta_bleu4 = corpus_bleu(references, hypotheses)"
   ]
  },
  {
   "cell_type": "code",
   "execution_count": 16,
   "id": "c248974f-4c2b-4fda-8702-501424ebaae8",
   "metadata": {},
   "outputs": [
    {
     "name": "stdout",
     "output_type": "stream",
     "text": [
      "BLEU-4 score of ViT RoBERTa model: 0.2339997151780256\n",
      "ROUGE-2 score of ViT RoBERTa model: 0.27296918887709576\n"
     ]
    }
   ],
   "source": [
    "print(f'BLEU-4 score of ViT RoBERTa model: {vit_roberta_bleu4}')\n",
    "print(f'ROUGE-2 score of ViT RoBERTa model: {vit_roberta_rouge2}')"
   ]
  },
  {
   "cell_type": "markdown",
   "id": "a9cb4c15-d1c8-4c52-ac11-d81b38e20f50",
   "metadata": {},
   "source": [
    "### Comparison"
   ]
  },
  {
   "cell_type": "code",
   "execution_count": 25,
   "id": "d765e9e0-b9d6-431b-91da-7942b5dc51dc",
   "metadata": {},
   "outputs": [],
   "source": [
    "rouge2=[effnet_lstm_rouge2,vit_roberta_rouge2]\n",
    "bleu4=[effnet_lstm_bleu4,vit_roberta_bleu4]\n",
    "model=['EfficientNet-LSTM','ViT-RoBERTa']"
   ]
  },
  {
   "cell_type": "code",
   "execution_count": 26,
   "id": "b13253c8-abd1-45b5-be37-f89b56ef59e5",
   "metadata": {},
   "outputs": [
    {
     "data": {
      "image/png": "[encoded data removed]",
      "text/plain": [
       "<Figure size 432x288 with 1 Axes>"
      ]
     },
     "metadata": {
      "needs_background": "light"
     },
     "output_type": "display_data"
    }
   ],
   "source": [
    "plt.bar(model, rouge2, width = 0.5)\n",
    "plt.xlabel(\"Model\")\n",
    "plt.ylabel(\"ROUGE-2\")\n",
    "plt.title(\"ROUGE-2 score comparison\")\n",
    "plt.show()"
   ]
  },
  {
   "cell_type": "code",
   "execution_count": 27,
   "id": "68696dd3-6966-44d6-84b5-06cc2322c22e",
   "metadata": {},
   "outputs": [
    {
     "data": {
      "image/png": "[encoded data removed]",
      "text/plain": [
       "<Figure size 432x288 with 1 Axes>"
      ]
     },
     "metadata": {
      "needs_background": "light"
     },
     "output_type": "display_data"
    }
   ],
   "source": [
    "plt.bar(model, bleu4, width = 0.5)\n",
    "plt.xlabel(\"Model\")\n",
    "plt.ylabel(\"BLEU-4\")\n",
    "plt.title(\"BLEU-4 score comparison\")\n",
    "plt.show()"
   ]
  }
 ],
 "metadata": {
  "kernelspec": {
   "display_name": "Python 3",
   "language": "python",
   "name": "python3"
  },
  "language_info": {
   "codemirror_mode": {
    "name": "ipython",
    "version": 3
   },
   "file_extension": ".py",
   "mimetype": "text/x-python",
   "name": "python",
   "nbconvert_exporter": "python",
   "pygments_lexer": "ipython3",
   "version": "3.8.8"
  }
 },
 "nbformat": 4,
 "nbformat_minor": 5
}
